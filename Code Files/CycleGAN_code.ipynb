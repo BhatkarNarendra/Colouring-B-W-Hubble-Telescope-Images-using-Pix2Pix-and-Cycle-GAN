{
  "cells": [
    {
      "cell_type": "code",
      "execution_count": null,
      "metadata": {
        "colab": {
          "base_uri": "https://localhost:8080/"
        },
        "id": "4QDVlg7sIREz",
        "outputId": "b3b9b90c-70ac-45a8-84ee-dabc64fad3fa"
      },
      "outputs": [],
      "source": [
        "pip install tensorflow-addons"
      ]
    },
    {
      "cell_type": "code",
      "execution_count": null,
      "metadata": {
        "colab": {
          "base_uri": "https://localhost:8080/"
        },
        "id": "HX7Dc5E30mM6",
        "outputId": "5b04a7ce-542e-4244-f5be-705f76a4b637"
      },
      "outputs": [],
      "source": [
        "!pip install -q git+https://github.com/tensorflow/examples.git"
      ]
    },
    {
      "cell_type": "code",
      "execution_count": null,
      "metadata": {
        "colab": {
          "base_uri": "https://localhost:8080/"
        },
        "id": "8jdHck7nH7fX",
        "outputId": "2d73abe1-39c2-4f39-ee98-6bc2fd6e85dd"
      },
      "outputs": [],
      "source": [
        "import tensorflow as tf\n",
        "from tensorflow import keras\n",
        "from tensorflow.keras import layers\n",
        "import tensorflow_addons as tfa\n",
        "import tensorflow_datasets as tfds\n",
        "\n",
        "\n",
        "import matplotlib.pyplot as plt\n",
        "import numpy as np\n",
        "\n",
        "from functools import partial\n",
        "from albumentations import (\n",
        "    Compose, RandomBrightness, JpegCompression, HueSaturationValue, RandomContrast, HorizontalFlip,\n",
        "    Rotate\n",
        ")\n",
        "\n",
        "try:\n",
        "    tpu = tf.distribute.cluster_resolver.TPUClusterResolver()\n",
        "    print('Device:', tpu.master())\n",
        "    tf.config.experimental_connect_to_cluster(tpu)\n",
        "    tf.tpu.experimental.initialize_tpu_system(tpu)\n",
        "    strategy = tf.distribute.experimental.TPUStrategy(tpu)\n",
        "except:\n",
        "    strategy = tf.distribute.get_strategy()\n",
        "print('Number of replicas:', strategy.num_replicas_in_sync)\n",
        "\n",
        "AUTOTUNE = tf.data.experimental.AUTOTUNE\n",
        "\n",
        "print(tf.__version__)"
      ]
    },
    {
      "cell_type": "code",
      "execution_count": null,
      "metadata": {
        "colab": {
          "base_uri": "https://localhost:8080/"
        },
        "id": "Gqaa_E92D7CO",
        "outputId": "eb6b73fd-fb2a-49e5-c9bf-8c87989ac7bd"
      },
      "outputs": [],
      "source": [
        "from google.colab import drive\n",
        "drive.mount('/content/drive')"
      ]
    },
    {
      "cell_type": "code",
      "execution_count": null,
      "metadata": {
        "colab": {
          "base_uri": "https://localhost:8080/"
        },
        "id": "KDbBinapWj9M",
        "outputId": "7f133856-355f-4e94-d30f-f408ca795ddd"
      },
      "outputs": [],
      "source": [
        "import tensorflow as tf\n",
        "from os import listdir\n",
        "import tensorflow_datasets as tfds\n",
        "from tensorflow_examples.models.pix2pix import pix2pix\n",
        "import numpy as np # linear algebra\n",
        "import pandas as pd # data processing, CSV file I/O (e.g. pd.read_csv)\n",
        "import os\n",
        "import time\n",
        "import matplotlib.pyplot as plt\n",
        "from IPython.display import clear_output\n",
        "from numpy import asarray\n",
        "from numpy import vstack\n",
        "from keras.preprocessing.image import img_to_array\n",
        "from keras.preprocessing.image import load_img\n",
        "from numpy import savez_compressed\n",
        "\n",
        "AUTOTUNE = tf.data.AUTOTUNE\n",
        "\n",
        "OUTPUT_CHANNELS = 3\n",
        "LATENT_DIM = 1024\n",
        "\n",
        "# load all images in a directory into memory\n",
        "def load_images(path, size=(256,256)):\n",
        "    data_list = list()\n",
        "    # enumerate filenames in directory, assume all are images\n",
        "    for filename in listdir(path):\n",
        "        # load and resize the image\n",
        "        pixels = load_img(path + filename, target_size=size)\n",
        "        # convert to numpy array\n",
        "        pixels = img_to_array(pixels)\n",
        "        # store\n",
        "        data_list.append(pixels)\n",
        "    return asarray(data_list)\n",
        "\n",
        "\n",
        "# load dataset A\n",
        "dataA = load_images('/content/drive/MyDrive/datasets/train_A/')\n",
        "\n",
        "\n",
        "print('Loaded dataA: ', dataA.shape)\n",
        "# load dataset B\n",
        "dataB = load_images('/content/drive/MyDrive/datasets/train_B/')\n",
        "\n",
        "print('Loaded dataB: ', dataB.shape)\n",
        "# save as compressed numpy array\n",
        "filename = './cycleGAN_colorizationofimages.npz'\n",
        "savez_compressed(filename, dataA, dataB)\n",
        "print('Saved dataset: ', filename)"
      ]
    },
    {
      "cell_type": "code",
      "execution_count": null,
      "metadata": {
        "id": "k1q--ZehxHru"
      },
      "outputs": [],
      "source": [
        "def numpy_to_dataset(data):\n",
        "    dataset = tf.data.Dataset.from_tensor_slices(data)\n",
        "    return dataset\n",
        "\n",
        "train_A1 = numpy_to_dataset(dataA)\n",
        "train_B1 = numpy_to_dataset(dataB)\n",
        "\n",
        "\n",
        "\n",
        "def preprocess_image(image):\n",
        "    image = tf.image.resize(image, [256, 256])\n",
        "    image = (image / 127.5) - 1  # Normalize to [-1, 1]\n",
        "    return image\n",
        "\n",
        "train_A1 = train_A1.map(preprocess_image, num_parallel_calls=tf.data.AUTOTUNE).cache().batch(1)\n",
        "train_B1 = train_B1.map(preprocess_image, num_parallel_calls=tf.data.AUTOTUNE).cache().batch(1)\n",
        "\n",
        "\n",
        "\n",
        "train_dataset1 = tf.data.Dataset.zip((train_A1, train_B1))"
      ]
    },
    {
      "cell_type": "code",
      "execution_count": null,
      "metadata": {
        "id": "mnO3yYzIVyfh"
      },
      "outputs": [],
      "source": [
        "def downsample(filters, size, apply_instancenorm=True):\n",
        "    initializer = tf.random_normal_initializer(0., 0.02)\n",
        "    gamma_init = keras.initializers.RandomNormal(mean=0.0, stddev=0.02)\n",
        "\n",
        "    result = keras.Sequential()\n",
        "    result.add(layers.Conv2D(filters, size, padding='same',\n",
        "                             kernel_initializer=initializer, use_bias=False))\n",
        "    result.add(layers.MaxPool2D())\n",
        "\n",
        "    if apply_instancenorm:\n",
        "        result.add(tfa.layers.InstanceNormalization(gamma_initializer=gamma_init))\n",
        "\n",
        "    result.add(layers.LeakyReLU())\n",
        "\n",
        "    return result\n",
        "\n",
        "def upsample(filters, size, apply_dropout=False):\n",
        "    initializer = tf.random_normal_initializer(0., 0.02)\n",
        "    gamma_init = keras.initializers.RandomNormal(mean=0.0, stddev=0.02)\n",
        "\n",
        "    result = keras.Sequential()\n",
        "    result.add(layers.Conv2DTranspose(filters, size, strides=2,\n",
        "                                      padding='same',\n",
        "                                      kernel_initializer=initializer,\n",
        "                                      use_bias=False))\n",
        "\n",
        "    result.add(tfa.layers.InstanceNormalization(gamma_initializer=gamma_init))\n",
        "\n",
        "    if apply_dropout:\n",
        "        result.add(layers.Dropout(0.5))\n",
        "\n",
        "    result.add(layers.LeakyReLU())\n",
        "\n",
        "    return result\n",
        "\n",
        "\n",
        "def CycleGenerator():\n",
        "    inputs = layers.Input(shape=[256,256,3])\n",
        "\n",
        "    # bs = batch size\n",
        "    down_stack = [\n",
        "        downsample(64, 4, apply_instancenorm=False), # (bs, 128, 128, 64)\n",
        "        downsample(128, 4), # (bs, 64, 64, 128)\n",
        "        downsample(256, 4), # (bs, 32, 32, 256)\n",
        "        downsample(512, 4), # (bs, 16, 16, 512)\n",
        "        downsample(512, 4), # (bs, 8, 8, 512)\n",
        "        downsample(512, 4), # (bs, 4, 4, 512)\n",
        "        downsample(512, 4), # (bs, 2, 2, 512)\n",
        "        downsample(512, 4), # (bs, 1, 1, 512)\n",
        "    ]\n",
        "\n",
        "    up_stack = [\n",
        "        upsample(512, 4, apply_dropout=True), # (bs, 2, 2, 1024)\n",
        "        upsample(512, 4, apply_dropout=True), # (bs, 4, 4, 1024)\n",
        "        upsample(512, 4, apply_dropout=True), # (bs, 8, 8, 1024)\n",
        "        upsample(512, 4), # (bs, 16, 16, 1024)\n",
        "        upsample(256, 4), # (bs, 32, 32, 512)\n",
        "        upsample(128, 4), # (bs, 64, 64, 256)\n",
        "        upsample(64, 4), # (bs, 128, 128, 128)\n",
        "    ]\n",
        "\n",
        "    initializer = tf.random_normal_initializer(0., 0.02)\n",
        "    last = layers.Conv2DTranspose(OUTPUT_CHANNELS, 4,\n",
        "                                  strides=2,\n",
        "                                  padding='same',\n",
        "                                  kernel_initializer=initializer,\n",
        "                                  activation='tanh') # (bs, 256, 256, 3)\n",
        "\n",
        "    x = inputs\n",
        "\n",
        "    # Downsampling through the model\n",
        "    skips = []\n",
        "    for down in down_stack:\n",
        "        x = down(x)\n",
        "        skips.append(x)\n",
        "\n",
        "    skips = reversed(skips[:-1])\n",
        "\n",
        "    # Upsampling and establishing the skip connections\n",
        "    for up, skip in zip(up_stack, skips):\n",
        "        x = up(x)\n",
        "        x = layers.Concatenate()([x, skip])\n",
        "\n",
        "    x = last(x)\n",
        "\n",
        "    return keras.Model(inputs=inputs, outputs=x)\n",
        "\n",
        "\n",
        "def CycleDiscriminator():\n",
        "    initializer = tf.random_normal_initializer(0., 0.02)\n",
        "    gamma_init = keras.initializers.RandomNormal(mean=0.0, stddev=0.02)\n",
        "\n",
        "    inp = layers.Input(shape=[256, 256, 3], name='input_image')\n",
        "\n",
        "    x = inp\n",
        "\n",
        "    down1 = downsample(64, 4, False)(x) # (bs, 128, 128, 64)\n",
        "    down2 = downsample(128, 4)(down1) # (bs, 64, 64, 128)\n",
        "    down3 = downsample(256, 4)(down2) # (bs, 32, 32, 256)\n",
        "\n",
        "    zero_pad1 = layers.ZeroPadding2D()(down3) # (bs, 34, 34, 256)\n",
        "    conv = layers.Conv2D(512, 4, strides=1,\n",
        "                         kernel_initializer=initializer,\n",
        "                         use_bias=False)(zero_pad1) # (bs, 31, 31, 512)\n",
        "\n",
        "    norm1 = tfa.layers.InstanceNormalization(gamma_initializer=gamma_init)(conv)\n",
        "\n",
        "    leaky_relu = layers.LeakyReLU()(norm1)\n",
        "\n",
        "    zero_pad2 = layers.ZeroPadding2D()(leaky_relu) # (bs, 33, 33, 512)\n",
        "\n",
        "    last_conv = layers.Conv2D(1, 4, strides=1,\n",
        "                         kernel_initializer=initializer)(zero_pad2) # (bs, 30, 30, 1)\n",
        "\n",
        "    last_relu = layers.LeakyReLU(alpha=0.2)(last_conv)\n",
        "    last_pool = layers.Flatten()(last_relu)\n",
        "    last = layers.Dense(1, activation='sigmoid')(last_pool)\n",
        "\n",
        "    return tf.keras.Model(inputs=inp, outputs=last)"
      ]
    },
    {
      "cell_type": "code",
      "execution_count": null,
      "metadata": {
        "id": "W8vsralPWBgZ"
      },
      "outputs": [],
      "source": [
        "with strategy.scope():\n",
        "    Generator1 = CycleGenerator() # transforms colourized to grescale\n",
        "    Generator2 = CycleGenerator() # transforms greyscale to colourize images\n",
        "\n",
        "    Discriminator1 = CycleDiscriminator()\n",
        "    Discriminator2 = CycleDiscriminator()"
      ]
    },
    {
      "cell_type": "markdown",
      "metadata": {
        "id": "rQozg6dLXG9Z"
      },
      "source": [
        "CycleGAN model\n"
      ]
    },
    {
      "cell_type": "code",
      "execution_count": null,
      "metadata": {
        "id": "MVXSyrFFXGsU"
      },
      "outputs": [],
      "source": [
        "class CycleGan(keras.Model):\n",
        "    def __init__(\n",
        "        self,\n",
        "        generator1,\n",
        "        generator2,\n",
        "        discriminator1,\n",
        "        discriminator2,\n",
        "        lambda_cycle=10,\n",
        "        real_label=.5\n",
        "    ):\n",
        "        super(CycleGan, self).__init__()\n",
        "        self.m_gen = generator1\n",
        "        self.p_gen = generator2\n",
        "        self.m_disc = discriminator1\n",
        "        self.p_disc = discriminator2\n",
        "        self.lambda_cycle = lambda_cycle\n",
        "        self.real_label = real_label\n",
        "\n",
        "    def compile(\n",
        "        self,\n",
        "        m_gen_optimizer,\n",
        "        p_gen_optimizer,\n",
        "        m_disc_optimizer,\n",
        "        p_disc_optimizer,\n",
        "        gen_loss_fn,\n",
        "        disc_loss_fn,\n",
        "        cycle_loss_fn,\n",
        "        identity_loss_fn\n",
        "    ):\n",
        "        super(CycleGan, self).compile()\n",
        "        self.m_gen_optimizer = m_gen_optimizer\n",
        "        self.p_gen_optimizer = p_gen_optimizer\n",
        "        self.m_disc_optimizer = m_disc_optimizer\n",
        "        self.p_disc_optimizer = p_disc_optimizer\n",
        "        self.gen_loss_fn = gen_loss_fn\n",
        "        self.disc_loss_fn = disc_loss_fn\n",
        "        self.cycle_loss_fn = cycle_loss_fn\n",
        "        self.identity_loss_fn = identity_loss_fn\n",
        "\n",
        "    def train_step(self, batch_data):\n",
        "        real_1, real_2 = batch_data\n",
        "\n",
        "        batch_size = tf.shape(real_2)[0]\n",
        "        labels_real = tf.zeros((batch_size, 1)) + self.real_label\n",
        "        labels_real += 0.05 * tf.random.uniform(tf.shape(labels_real))\n",
        "\n",
        "        with tf.GradientTape(persistent=True) as tape:\n",
        "            # photo to monet back to photo\n",
        "            fake_monet = self.m_gen(real_2, training=True)\n",
        "            cycled_photo = self.p_gen(fake_monet, training=True)\n",
        "\n",
        "            # monet to photo back to monet\n",
        "            fake_photo = self.p_gen(real_1, training=True)\n",
        "            cycled_monet = self.m_gen(fake_photo, training=True)\n",
        "\n",
        "            # generating itself\n",
        "            same_monet = self.m_gen(real_1, training=True)\n",
        "            same_photo = self.p_gen(real_2, training=True)\n",
        "\n",
        "            # discriminator used to check, inputing real images\n",
        "            disc_real_monet = self.m_disc(real_1, training=True)\n",
        "            disc_real_photo = self.p_disc(real_2, training=True)\n",
        "\n",
        "            # discriminator used to check, inputing fake images\n",
        "            disc_fake_monet = self.m_disc(fake_monet, training=True)\n",
        "            disc_fake_photo = self.p_disc(fake_photo, training=True)\n",
        "\n",
        "            # evaluates generator loss\n",
        "            monet_gen_loss = self.gen_loss_fn(disc_real_monet, disc_fake_monet, labels_real)\n",
        "            photo_gen_loss = self.gen_loss_fn(disc_real_photo, disc_fake_photo, labels_real)\n",
        "\n",
        "            # evaluates total cycle consistency loss\n",
        "            total_cycle_loss = self.cycle_loss_fn(real_1, cycled_monet, self.lambda_cycle) + self.cycle_loss_fn(real_2, cycled_photo, self.lambda_cycle)\n",
        "\n",
        "            # evaluates total generator loss\n",
        "            total_monet_gen_loss = monet_gen_loss + total_cycle_loss + self.identity_loss_fn(real_1, same_monet, self.lambda_cycle)\n",
        "            total_photo_gen_loss = photo_gen_loss + total_cycle_loss + self.identity_loss_fn(real_2, same_photo, self.lambda_cycle)\n",
        "            # evaluates discriminator loss\n",
        "            monet_disc_loss = self.disc_loss_fn(disc_real_monet, disc_fake_monet, labels_real)\n",
        "            photo_disc_loss = self.disc_loss_fn(disc_real_photo, disc_fake_photo, labels_real)\n",
        "\n",
        "        # Calculate the gradients for generator and discriminator\n",
        "        monet_generator_gradients = tape.gradient(total_monet_gen_loss,\n",
        "                                                  self.m_gen.trainable_variables)\n",
        "        photo_generator_gradients = tape.gradient(total_photo_gen_loss,\n",
        "                                                  self.p_gen.trainable_variables)\n",
        "\n",
        "        monet_discriminator_gradients = tape.gradient(monet_disc_loss,\n",
        "                                                      self.m_disc.trainable_variables)\n",
        "        photo_discriminator_gradients = tape.gradient(photo_disc_loss,\n",
        "                                                      self.p_disc.trainable_variables)\n",
        "\n",
        "        # Apply the gradients to the optimizer\n",
        "        self.m_gen_optimizer.apply_gradients(zip(monet_generator_gradients,\n",
        "                                                 self.m_gen.trainable_variables))\n",
        "\n",
        "        self.p_gen_optimizer.apply_gradients(zip(photo_generator_gradients,\n",
        "                                                 self.p_gen.trainable_variables))\n",
        "\n",
        "        self.m_disc_optimizer.apply_gradients(zip(monet_discriminator_gradients,\n",
        "                                                  self.m_disc.trainable_variables))\n",
        "\n",
        "        self.p_disc_optimizer.apply_gradients(zip(photo_discriminator_gradients,\n",
        "                                                  self.p_disc.trainable_variables))\n",
        "\n",
        "        return {\n",
        "            \"gen_1_loss\": total_monet_gen_loss,\n",
        "            \"gen_2_loss\": total_photo_gen_loss,\n",
        "            \"disc_1_loss\": monet_disc_loss,\n",
        "            \"disc_2_loss\": photo_disc_loss\n",
        "        }"
      ]
    },
    {
      "cell_type": "code",
      "execution_count": null,
      "metadata": {
        "id": "aI3JqrN7Y0gJ"
      },
      "outputs": [],
      "source": [
        "with strategy.scope():\n",
        "    def discriminator_loss(predictions_real, predictions_gen, labels_real):\n",
        "        return (tf.reduce_mean((predictions_gen  - tf.reduce_mean(predictions_real) + labels_real) ** 2) +\n",
        "                tf.reduce_mean((predictions_real - tf.reduce_mean(predictions_gen)  - labels_real) ** 2))/2\n",
        "\n",
        "    def generator_loss(predictions_real, predictions_gen, labels_real):\n",
        "        return (tf.reduce_mean((predictions_real - tf.reduce_mean(predictions_gen)  + labels_real) ** 2) +\n",
        "                tf.reduce_mean((predictions_gen  - tf.reduce_mean(predictions_real) - labels_real) ** 2)) / 2"
      ]
    },
    {
      "cell_type": "code",
      "execution_count": null,
      "metadata": {
        "id": "ZNTSa87LY4l4"
      },
      "outputs": [],
      "source": [
        "with strategy.scope():\n",
        "    def calc_cycle_loss(real_image, cycled_image, LAMBDA):\n",
        "        loss1 = tf.reduce_mean(tf.abs(real_image - cycled_image))\n",
        "\n",
        "        return LAMBDA * loss1"
      ]
    },
    {
      "cell_type": "code",
      "execution_count": null,
      "metadata": {
        "id": "H8Vqh6AQY5RZ"
      },
      "outputs": [],
      "source": [
        "with strategy.scope():\n",
        "    def identity_loss(real_image, same_image, LAMBDA):\n",
        "        loss = tf.reduce_mean(tf.abs(real_image - same_image))\n",
        "        return LAMBDA * 0.5 * loss"
      ]
    },
    {
      "cell_type": "code",
      "execution_count": null,
      "metadata": {
        "id": "53WEZl-vZD5I"
      },
      "outputs": [],
      "source": [
        "EPOCHS = 50\n",
        "LR_G = 2e-4\n",
        "LR_D = 2e-4\n",
        "beta_1 = .5\n",
        "\n",
        "real_label = .9\n",
        "fake_label = 0"
      ]
    },
    {
      "cell_type": "code",
      "execution_count": null,
      "metadata": {
        "id": "LLvRMDtzY7gH"
      },
      "outputs": [],
      "source": [
        "with strategy.scope():\n",
        "    generator1_optimizer = tf.keras.optimizers.Adam(LR_G, beta_1=0.5)\n",
        "    generator2_optimizer = tf.keras.optimizers.Adam(LR_G, beta_1)\n",
        "    discriminator1_optimizer = tf.keras.optimizers.Adam(LR_D, beta_1=0.5)\n",
        "    discriminator2_optimizer = tf.keras.optimizers.Adam(LR_D, beta_1=0.5)"
      ]
    },
    {
      "cell_type": "code",
      "execution_count": null,
      "metadata": {
        "id": "nIoHKwyouXcm"
      },
      "outputs": [],
      "source": [
        "with strategy.scope():\n",
        "    cycle_gan_model = CycleGan(\n",
        "        Generator1, Generator2, Discriminator1, Discriminator2, real_label=0.66\n",
        "    )\n",
        "\n",
        "    cycle_gan_model.compile(\n",
        "        m_gen_optimizer = generator1_optimizer,\n",
        "        p_gen_optimizer = generator2_optimizer,\n",
        "        m_disc_optimizer = discriminator1_optimizer,\n",
        "        p_disc_optimizer = discriminator2_optimizer,\n",
        "        gen_loss_fn = generator_loss,\n",
        "        disc_loss_fn = discriminator_loss,\n",
        "        cycle_loss_fn = calc_cycle_loss,\n",
        "        identity_loss_fn = identity_loss\n",
        "    )"
      ]
    },
    {
      "cell_type": "code",
      "execution_count": null,
      "metadata": {
        "colab": {
          "base_uri": "https://localhost:8080/"
        },
        "id": "USQ7IbyquZl1",
        "outputId": "d3ea58ab-cf95-41ed-f14a-587295a54ede"
      },
      "outputs": [],
      "source": [
        "cycle_gan_model.fit(train_dataset1,epochs=EPOCHS)"
      ]
    },
    {
      "cell_type": "code",
      "execution_count": null,
      "metadata": {
        "colab": {
          "base_uri": "https://localhost:8080/"
        },
        "id": "6AeHwuii31QS",
        "outputId": "55cf097d-6f21-4477-9deb-a9d47465c786"
      },
      "outputs": [],
      "source": [
        "Generator1.save_weights('Generator-colour-to-grey.h5')\n",
        "Generator2.save_weights('greyscale_to_colorize_weights.h5')\n",
        "Discriminator1.save('Discriminator1.h5')\n",
        "Discriminator2.save('Discriminator2.h5')\n",
        "Generator1.save('Generator1.h5')\n",
        "Generator2.save('Generator2.h5')"
      ]
    },
    {
      "cell_type": "code",
      "execution_count": null,
      "metadata": {
        "colab": {
          "base_uri": "https://localhost:8080/"
        },
        "id": "CDwL_E_xICoA",
        "outputId": "02fba001-4f3f-4e1f-84f6-bc07f1370578"
      },
      "outputs": [],
      "source": [
        "Generator1.summary()\n",
        "Generator2.summary()\n",
        "Discriminator1.summary()\n",
        "Discriminator2.summary()"
      ]
    },
    {
      "cell_type": "code",
      "execution_count": null,
      "metadata": {
        "colab": {
          "base_uri": "https://localhost:8080/",
          "height": 792
        },
        "id": "P936pr_pdFY1",
        "outputId": "de57aead-3a17-4df5-de84-5ed6f8a34b17"
      },
      "outputs": [],
      "source": [
        "import tensorflow as tf\n",
        "import numpy as np\n",
        "import os\n",
        "import random\n",
        "from keras.preprocessing.image import load_img, img_to_array, array_to_img\n",
        "import matplotlib.pyplot as plt\n",
        "import tensorflow_addons as tfa\n",
        "\n",
        "# Load the saved generator model with the custom layer\n",
        "generator_model_path = '/content/Generator1.h5'  # update with your model path\n",
        "custom_objects = {'InstanceNormalization': tfa.layers.InstanceNormalization}\n",
        "generator = tf.keras.models.load_model(generator_model_path, custom_objects=custom_objects, compile=False)\n",
        "\n",
        "# Function to preprocess a single image\n",
        "def preprocess_image(image_path, target_size=(256, 256)):\n",
        "    img = load_img(image_path, target_size=target_size)\n",
        "    img = img_to_array(img)\n",
        "    if img.shape[-1] == 1:  # If grayscale, convert to 3 channels\n",
        "        img = np.concatenate([img, img, img], axis=-1)\n",
        "    img = (img / 127.5) - 1  # Normalize to [-1, 1]\n",
        "    img = np.expand_dims(img, axis=0)  # Add batch dimension\n",
        "    return img\n",
        "\n",
        "# Function to post-process the generated image\n",
        "def postprocess_image(predicted_img):\n",
        "    predicted_img = (predicted_img + 1) * 127.5  # Denormalize to [0, 255]\n",
        "    predicted_img = np.clip(predicted_img, 0, 255)  # Clip values to [0, 255]\n",
        "    predicted_img = predicted_img.astype('uint8')  # Convert to uint8\n",
        "    return predicted_img\n",
        "\n",
        "# Function to calculate PSNR\n",
        "def calculate_psnr(original_image, generated_image):\n",
        "    mse = np.mean((original_image - generated_image) ** 2)\n",
        "    if mse == 0:\n",
        "        return float('inf')\n",
        "    max_pixel = 255.0\n",
        "    psnr = 20 * np.log10(max_pixel / np.sqrt(mse))\n",
        "    return psnr\n",
        "\n",
        "# Function to randomly select 5 images from a folder\n",
        "def select_random_images(folder_path, num_images=5):\n",
        "    all_images = [os.path.join(folder_path, f) for f in os.listdir(folder_path) if f.endswith(('.png', '.jpg', '.jpeg'))]\n",
        "    selected_images = random.sample(all_images, num_images)\n",
        "    return selected_images\n",
        "\n",
        "# Folder containing the test images\n",
        "test_images_folder = '/content/drive/MyDrive/datasets/train_B/'  # update with your folder path\n",
        "\n",
        "# Select 5 random images\n",
        "random_images = select_random_images(test_images_folder)\n",
        "\n",
        "total_psnr = 0.0\n",
        "\n",
        "plt.figure(figsize=(15, 6))\n",
        "\n",
        "for i, image_path in enumerate(random_images):\n",
        "    # Preprocess the test image\n",
        "    test_image = preprocess_image(image_path)\n",
        "\n",
        "    # Generate the colorized image using the generator model\n",
        "    generated_image = generator(test_image, training=False)\n",
        "\n",
        "    # Post-process the generated image\n",
        "    generated_image = postprocess_image(generated_image[0])\n",
        "\n",
        "    # Load and preprocess the original image\n",
        "    original_image = img_to_array(load_img(image_path, target_size=(256, 256)))\n",
        "\n",
        "    # Calculate PSNR\n",
        "    psnr = calculate_psnr(original_image, generated_image)\n",
        "    total_psnr += psnr\n",
        "\n",
        "    # Display the original and generated images\n",
        "    plt.subplot(2, 5, i + 1)\n",
        "    plt.title(f'Original Image\\nPSNR: {psnr:.2f}')\n",
        "    plt.imshow(array_to_img(original_image))\n",
        "    plt.axis('off')\n",
        "\n",
        "    plt.subplot(2, 5, i + 6)\n",
        "    plt.title('Generated Image')\n",
        "    plt.imshow(array_to_img(generated_image))\n",
        "    plt.axis('off')\n",
        "\n",
        "avg_psnr = total_psnr / len(random_images)\n",
        "print(f'Average PSNR: {avg_psnr:.2f}')\n",
        "\n",
        "plt.show()\n"
      ]
    }
  ],
  "metadata": {
    "accelerator": "GPU",
    "colab": {
      "gpuType": "T4",
      "provenance": []
    },
    "kernelspec": {
      "display_name": "Python 3",
      "name": "python3"
    },
    "language_info": {
      "name": "python"
    }
  },
  "nbformat": 4,
  "nbformat_minor": 0
}
